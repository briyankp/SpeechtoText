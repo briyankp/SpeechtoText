
//Use file name (transcribe.ipynb) and below commands in Google Colab to convert speech to text

- Install Whisper AI:
 !pip install git+https://github.com/openai/whisper.git
 !sudo apt update && sudo apt install ffmpeg


- Run Whisper AI:
 !whisper "ENTER FILE NAME HERE" --model medium


- Additional arguments:
 !whisper -h
